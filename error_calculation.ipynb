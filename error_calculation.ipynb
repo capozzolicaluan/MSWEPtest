{
  "nbformat": 4,
  "nbformat_minor": 0,
  "metadata": {
    "colab": {
      "provenance": [],
      "authorship_tag": "ABX9TyNR97RT/RXS5bzJUxusylJd",
      "include_colab_link": true
    },
    "kernelspec": {
      "name": "python3",
      "display_name": "Python 3"
    },
    "language_info": {
      "name": "python"
    }
  },
  "cells": [
    {
      "cell_type": "markdown",
      "metadata": {
        "id": "view-in-github",
        "colab_type": "text"
      },
      "source": [
        "<a href=\"https://colab.research.google.com/github/capozzolicaluan/MSWEPtest/blob/main/error_calculation.ipynb\" target=\"_parent\"><img src=\"https://colab.research.google.com/assets/colab-badge.svg\" alt=\"Open In Colab\"/></a>"
      ]
    },
    {
      "cell_type": "code",
      "execution_count": 5,
      "metadata": {
        "id": "gSd6pgC76E5z"
      },
      "outputs": [],
      "source": [
        "# Limpar todas as variáveis\n",
        "from IPython import get_ipython\n",
        "get_ipython().magic('reset -sf')"
      ]
    },
    {
      "cell_type": "code",
      "source": [
        "!pip install HydroErr -q"
      ],
      "metadata": {
        "id": "y2km_Esknmjn",
        "outputId": "640d834b-dfda-4b60-8875-67b89ae3f97f",
        "colab": {
          "base_uri": "https://localhost:8080/"
        }
      },
      "execution_count": 6,
      "outputs": [
        {
          "output_type": "stream",
          "name": "stdout",
          "text": [
            "  Preparing metadata (setup.py) ... \u001b[?25l\u001b[?25hdone\n",
            "  Building wheel for HydroErr (setup.py) ... \u001b[?25l\u001b[?25hdone\n"
          ]
        }
      ]
    },
    {
      "cell_type": "code",
      "source": [
        "# Importando as bibliotecas necessárias\n",
        "import requests\n",
        "import pandas as pd\n",
        "import gc\n",
        "from google.colab import data_table\n",
        "import math\n",
        "import HydroErr as he\n",
        "\n",
        "# Liberar memória manualmente\n",
        "_ = gc.collect()"
      ],
      "metadata": {
        "id": "pdVekaQL6KpC"
      },
      "execution_count": 7,
      "outputs": []
    },
    {
      "cell_type": "code",
      "source": [
        "import numpy as np\n",
        "\n",
        "def cont_index(obs, sim, limiar=0.5):\n",
        "    \"\"\"\n",
        "    Calcula os índices POD, FAR e CSI a partir de séries observadas e previstas de chuva.\n",
        "\n",
        "    Parâmetros:\n",
        "    - hidro_sem_nan: Série pandas (ou array NumPy) com dados observados (sem NaN).\n",
        "    - mswep_sem_nan: Série pandas (ou array NumPy) com dados previstos (sem NaN).\n",
        "    - limiar: Valor em mm para considerar a ocorrência de chuva (default: 0.5 mm).\n",
        "\n",
        "    Retorna:\n",
        "    - dicionário com hits, misses, false_alarms, correct_negatives, pod, far e csi.\n",
        "    \"\"\"\n",
        "\n",
        "    # Converte para arrays NumPy, se forem séries pandas\n",
        "    observado = np.asarray(obs)\n",
        "    previsto = np.asarray(sim)\n",
        "\n",
        "    # BIAS relativo\n",
        "    y_true = observado.reshape(len(observado),1)\n",
        "    y_pred = previsto.reshape(len(previsto),1)\n",
        "    diff = (y_true-y_pred)\n",
        "    diff_sum = diff.sum()\n",
        "    y_true_sum = y_true.sum()\n",
        "    rbias = diff_sum/y_true_sum\n",
        "\n",
        "    # Aplica o limiar para binarizar as observações e previsões\n",
        "    observado_chuva = observado >= limiar\n",
        "    previsto_chuva = previsto >= limiar\n",
        "\n",
        "\n",
        "\n",
        "    # Tabela de contingência\n",
        "    hits = ((observado_chuva == True) & (previsto_chuva == True)).sum()\n",
        "    misses = ((observado_chuva == True) & (previsto_chuva == False)).sum()\n",
        "    false_alarms = ((observado_chuva == False) & (previsto_chuva == True)).sum()\n",
        "    correct_negatives = ((observado_chuva == False) & (previsto_chuva == False)).sum()\n",
        "\n",
        "    # Cálculo dos índices com verificação para evitar divisão por zero\n",
        "    pod = hits / (hits + misses) if (hits + misses) > 0 else np.nan\n",
        "    far = false_alarms / (false_alarms + correct_negatives) if (false_alarms + correct_negatives) > 0 else np.nan\n",
        "    csi = (pod - far) / (1 - far) if (1 - far) != 0 else np.nan\n",
        "\n",
        "    return {\n",
        "        'rbias': rbias,\n",
        "        'pod': pod,\n",
        "        'far': far,\n",
        "        'csi': csi\n",
        "    }\n",
        "\n",
        "\n",
        "def filt_month(df, month):\n",
        "  # Certifique-se de que a coluna 'datetime' está no formato datetime\n",
        "  df['datetime'] = pd.to_datetime(df['datetime'])\n",
        "\n",
        "  # Para filtrar, por exemplo, somente dados de janeiro (mês 1)\n",
        "  df_mes = df[df['datetime'].dt.month == month]\n",
        "\n",
        "  return (df_mes)\n",
        "\n",
        "def remove_nan(df_obs, df_sim):\n",
        "\n",
        "  sem_nan = df_obs.dropna().index\n",
        "  obs_sem_nan = df_obs.loc[sem_nan]\n",
        "  sim_sem_nan = df_sim.loc[sem_nan]\n",
        "\n",
        "  return obs_sem_nan, sim_sem_nan\n",
        "\n",
        "def salva_indices(df_indice, caminho_salvar, nome_indice):\n",
        "\n",
        "  if isinstance(df_indice, pd.core.frame.DataFrame):\n",
        "    pd_df_indice = df_indice\n",
        "  else:\n",
        "    pd_df_indice = pd.DataFrame({'Indice': df_indice})\n",
        "\n",
        "  pd_df_indice.to_csv(join(caminho_salvar,nome_indice + \".txt\"), sep=';', index=False)\n",
        "\n",
        "  print(nome_indice)\n",
        "\n",
        "\n",
        "def lista_saidas():\n",
        "\n",
        "  # Lista para armazenar variáveis que começam com \"erro_\"\n",
        "  variaveis_erro = []\n",
        "\n",
        "  # Itera sobre as variáveis globais\n",
        "  for var_name, var_value in list(globals().items()):\n",
        "    # Verifica se o nome da variável começa com \"erro_\"\n",
        "    if var_name.startswith(\"erro_\"):\n",
        "      variaveis_erro.append(var_name)\n",
        "\n",
        "  return variaveis_erro"
      ],
      "metadata": {
        "id": "THE8QGg_B1eo"
      },
      "execution_count": 69,
      "outputs": []
    },
    {
      "cell_type": "code",
      "source": [
        "from google.colab import drive\n",
        "drive.mount('/content/drive',force_remount=True)"
      ],
      "metadata": {
        "colab": {
          "base_uri": "https://localhost:8080/"
        },
        "id": "0L__WHDg6Obv",
        "outputId": "5ac89e19-c011-45b4-e126-80e2d7f1c6c1"
      },
      "execution_count": 9,
      "outputs": [
        {
          "output_type": "stream",
          "name": "stdout",
          "text": [
            "Mounted at /content/drive\n"
          ]
        }
      ]
    },
    {
      "cell_type": "code",
      "source": [
        "from posixpath import join\n",
        "file_path = \"/content/drive/MyDrive/Colab/txts\"\n",
        "\n",
        "dados_hidro = pd.read_csv(join(file_path, \"matriz_hidro.txt\"), sep = ';')\n",
        "dados_mswep = pd.read_csv(join(file_path, \"matriz_mswep.txt\"), sep = ';')"
      ],
      "metadata": {
        "id": "bwNRd4_c7fj9"
      },
      "execution_count": 10,
      "outputs": []
    },
    {
      "cell_type": "code",
      "source": [
        "for i in range(dados_mswep.shape[1]-1):\n",
        "  indices = dados_mswep[ dados_mswep.iloc[:,(i+1)] < 0.2].index\n",
        "  dados_mswep.iloc[indices,(i+1)] = 0"
      ],
      "metadata": {
        "id": "kDrqHBCU7ZwR"
      },
      "execution_count": 11,
      "outputs": []
    },
    {
      "cell_type": "code",
      "source": [
        "for i in range(dados_hidro.shape[1]-1):\n",
        "  indices = dados_hidro[ dados_hidro.iloc[:,(i+1)] < 0.2].index\n",
        "  dados_hidro.iloc[indices,(i+1)] = 0"
      ],
      "metadata": {
        "id": "S_dmvKEnEI9w"
      },
      "execution_count": 12,
      "outputs": []
    },
    {
      "cell_type": "code",
      "source": [
        "# statistics metrics: correlation coef, relative bias, rmse, pod, false alarm ratio, critical success index\n",
        "erro_cc = [None] * (dados_mswep.shape[1]-1)\n",
        "erro_bias = [None] * (dados_mswep.shape[1]-1)\n",
        "erro_rmse = [None] * (dados_mswep.shape[1]-1)\n",
        "erro_far = [None] * (dados_mswep.shape[1]-1)\n",
        "erro_pod = [None] * (dados_mswep.shape[1]-1)\n",
        "erro_csi = [None] * (dados_mswep.shape[1]-1)\n",
        "\n",
        "for estacao_i in range(dados_mswep.shape[1]-1):\n",
        "\n",
        "  hidro_sem_nan, mswep_sem_nan = remove_nan(df_obs = dados_hidro.iloc[:, estacao_i+1],\n",
        "                                            df_sim = dados_mswep.iloc[:, estacao_i+1])\n",
        "\n",
        "  erro_cc[estacao_i] = he.pearson_r(simulated_array=mswep_sem_nan, observed_array=hidro_sem_nan)\n",
        "  erro_rmse[estacao_i] = he.rmse(simulated_array=mswep_sem_nan, observed_array=hidro_sem_nan)\n",
        "  erro_bias[estacao_i] = cont_index(obs=hidro_sem_nan, sim=mswep_sem_nan)['rbias']\n",
        "  erro_far[estacao_i] = cont_index(obs=hidro_sem_nan, sim=mswep_sem_nan)['far']\n",
        "  erro_pod[estacao_i] = cont_index(obs=hidro_sem_nan, sim=mswep_sem_nan)['pod']\n",
        "  erro_csi[estacao_i] = cont_index(obs=hidro_sem_nan, sim=mswep_sem_nan)['csi']"
      ],
      "metadata": {
        "colab": {
          "base_uri": "https://localhost:8080/"
        },
        "id": "8NwC1MecnSG2",
        "outputId": "5061e2e4-b226-4dd7-985c-5a747e1cf10e"
      },
      "execution_count": 13,
      "outputs": [
        {
          "output_type": "stream",
          "name": "stderr",
          "text": [
            "/usr/local/lib/python3.11/dist-packages/numpy/_core/fromnumeric.py:3596: RuntimeWarning: Mean of empty slice.\n",
            "  return _methods._mean(a, axis=axis, dtype=dtype,\n",
            "/usr/local/lib/python3.11/dist-packages/numpy/_core/_methods.py:138: RuntimeWarning: invalid value encountered in scalar divide\n",
            "  ret = ret.dtype.type(ret / rcount)\n",
            "/usr/local/lib/python3.11/dist-packages/HydroErr/HydroErr.py:1534: RuntimeWarning: invalid value encountered in scalar divide\n",
            "  return top / (bot1 * bot2)\n",
            "/tmp/ipython-input-8-1004498154.py:26: RuntimeWarning: invalid value encountered in scalar divide\n",
            "  rbias = diff_sum/y_true_sum\n"
          ]
        }
      ]
    },
    {
      "cell_type": "code",
      "source": [
        "# statistics metrics: correlation coef, relative bias, rmse, pod, false alarm ratio, critical success index\n",
        "erro_cc_mes = pd.DataFrame([[None]*12 for _ in range( (dados_mswep.shape[1]-1))])\n",
        "erro_bias_mes = erro_cc_mes.copy()\n",
        "erro_rmse_mes = erro_cc_mes.copy()\n",
        "erro_far_mes = erro_cc_mes.copy()\n",
        "erro_pod_mes = erro_cc_mes.copy()\n",
        "erro_csi_mes = erro_cc_mes.copy()\n",
        "\n",
        "for mes_m in range(0,12):\n",
        "\n",
        "  df_mes_hidro = filt_month(df = dados_hidro, month = mes_m+1)\n",
        "  df_mes_mswep = filt_month(df = dados_mswep, month = mes_m+1)\n",
        "\n",
        "  for estacao_i in range(dados_mswep.shape[1]-1):\n",
        "\n",
        "    hidro_sem_nan, mswep_sem_nan = remove_nan(df_obs = df_mes_hidro.iloc[:, estacao_i+1],\n",
        "                                              df_sim = df_mes_mswep.iloc[:, estacao_i+1])\n",
        "\n",
        "    erro_cc_mes.at[estacao_i,mes_m] = he.pearson_r(simulated_array=mswep_sem_nan, observed_array=hidro_sem_nan)\n",
        "    erro_rmse_mes.at[estacao_i,mes_m] = he.rmse(simulated_array=mswep_sem_nan, observed_array=hidro_sem_nan)\n",
        "    erro_bias_mes.at[estacao_i,mes_m] = cont_index(obs=hidro_sem_nan, sim=mswep_sem_nan)['rbias']\n",
        "    erro_far_mes.at[estacao_i,mes_m] = cont_index(obs=hidro_sem_nan, sim=mswep_sem_nan)['far']\n",
        "    erro_pod_mes.at[estacao_i,mes_m] = cont_index(obs=hidro_sem_nan, sim=mswep_sem_nan)['pod']\n",
        "    erro_csi_mes.at[estacao_i,mes_m] = cont_index(obs=hidro_sem_nan, sim=mswep_sem_nan)['csi']"
      ],
      "metadata": {
        "id": "2P9OpRAByGXU",
        "collapsed": true,
        "outputId": "d53a4e0b-d7fe-44f2-a1bd-7b34bb7f0903",
        "colab": {
          "base_uri": "https://localhost:8080/"
        }
      },
      "execution_count": 16,
      "outputs": [
        {
          "output_type": "stream",
          "name": "stderr",
          "text": [
            "/usr/local/lib/python3.11/dist-packages/numpy/_core/fromnumeric.py:3596: RuntimeWarning: Mean of empty slice.\n",
            "  return _methods._mean(a, axis=axis, dtype=dtype,\n",
            "/usr/local/lib/python3.11/dist-packages/numpy/_core/_methods.py:138: RuntimeWarning: invalid value encountered in scalar divide\n",
            "  ret = ret.dtype.type(ret / rcount)\n",
            "/usr/local/lib/python3.11/dist-packages/HydroErr/HydroErr.py:1534: RuntimeWarning: invalid value encountered in scalar divide\n",
            "  return top / (bot1 * bot2)\n",
            "/tmp/ipython-input-8-1004498154.py:26: RuntimeWarning: invalid value encountered in scalar divide\n",
            "  rbias = diff_sum/y_true_sum\n",
            "/usr/local/lib/python3.11/dist-packages/numpy/_core/fromnumeric.py:3596: RuntimeWarning: Mean of empty slice.\n",
            "  return _methods._mean(a, axis=axis, dtype=dtype,\n",
            "/usr/local/lib/python3.11/dist-packages/numpy/_core/_methods.py:138: RuntimeWarning: invalid value encountered in scalar divide\n",
            "  ret = ret.dtype.type(ret / rcount)\n",
            "/usr/local/lib/python3.11/dist-packages/HydroErr/HydroErr.py:1534: RuntimeWarning: invalid value encountered in scalar divide\n",
            "  return top / (bot1 * bot2)\n",
            "/tmp/ipython-input-8-1004498154.py:26: RuntimeWarning: invalid value encountered in scalar divide\n",
            "  rbias = diff_sum/y_true_sum\n",
            "/usr/local/lib/python3.11/dist-packages/numpy/_core/fromnumeric.py:3596: RuntimeWarning: Mean of empty slice.\n",
            "  return _methods._mean(a, axis=axis, dtype=dtype,\n",
            "/usr/local/lib/python3.11/dist-packages/numpy/_core/_methods.py:138: RuntimeWarning: invalid value encountered in scalar divide\n",
            "  ret = ret.dtype.type(ret / rcount)\n",
            "/usr/local/lib/python3.11/dist-packages/HydroErr/HydroErr.py:1534: RuntimeWarning: invalid value encountered in scalar divide\n",
            "  return top / (bot1 * bot2)\n",
            "/tmp/ipython-input-8-1004498154.py:26: RuntimeWarning: invalid value encountered in scalar divide\n",
            "  rbias = diff_sum/y_true_sum\n",
            "/usr/local/lib/python3.11/dist-packages/numpy/_core/fromnumeric.py:3596: RuntimeWarning: Mean of empty slice.\n",
            "  return _methods._mean(a, axis=axis, dtype=dtype,\n",
            "/usr/local/lib/python3.11/dist-packages/numpy/_core/_methods.py:138: RuntimeWarning: invalid value encountered in scalar divide\n",
            "  ret = ret.dtype.type(ret / rcount)\n",
            "/usr/local/lib/python3.11/dist-packages/HydroErr/HydroErr.py:1534: RuntimeWarning: invalid value encountered in scalar divide\n",
            "  return top / (bot1 * bot2)\n",
            "/tmp/ipython-input-8-1004498154.py:26: RuntimeWarning: invalid value encountered in scalar divide\n",
            "  rbias = diff_sum/y_true_sum\n",
            "/usr/local/lib/python3.11/dist-packages/numpy/_core/fromnumeric.py:3596: RuntimeWarning: Mean of empty slice.\n",
            "  return _methods._mean(a, axis=axis, dtype=dtype,\n",
            "/usr/local/lib/python3.11/dist-packages/numpy/_core/_methods.py:138: RuntimeWarning: invalid value encountered in scalar divide\n",
            "  ret = ret.dtype.type(ret / rcount)\n",
            "/usr/local/lib/python3.11/dist-packages/HydroErr/HydroErr.py:1534: RuntimeWarning: invalid value encountered in scalar divide\n",
            "  return top / (bot1 * bot2)\n",
            "/tmp/ipython-input-8-1004498154.py:26: RuntimeWarning: invalid value encountered in scalar divide\n",
            "  rbias = diff_sum/y_true_sum\n",
            "/usr/local/lib/python3.11/dist-packages/numpy/_core/fromnumeric.py:3596: RuntimeWarning: Mean of empty slice.\n",
            "  return _methods._mean(a, axis=axis, dtype=dtype,\n",
            "/usr/local/lib/python3.11/dist-packages/numpy/_core/_methods.py:138: RuntimeWarning: invalid value encountered in scalar divide\n",
            "  ret = ret.dtype.type(ret / rcount)\n",
            "/usr/local/lib/python3.11/dist-packages/HydroErr/HydroErr.py:1534: RuntimeWarning: invalid value encountered in scalar divide\n",
            "  return top / (bot1 * bot2)\n",
            "/tmp/ipython-input-8-1004498154.py:26: RuntimeWarning: invalid value encountered in scalar divide\n",
            "  rbias = diff_sum/y_true_sum\n",
            "/usr/local/lib/python3.11/dist-packages/numpy/_core/fromnumeric.py:3596: RuntimeWarning: Mean of empty slice.\n",
            "  return _methods._mean(a, axis=axis, dtype=dtype,\n",
            "/usr/local/lib/python3.11/dist-packages/numpy/_core/_methods.py:138: RuntimeWarning: invalid value encountered in scalar divide\n",
            "  ret = ret.dtype.type(ret / rcount)\n",
            "/usr/local/lib/python3.11/dist-packages/HydroErr/HydroErr.py:1534: RuntimeWarning: invalid value encountered in scalar divide\n",
            "  return top / (bot1 * bot2)\n",
            "/tmp/ipython-input-8-1004498154.py:26: RuntimeWarning: invalid value encountered in scalar divide\n",
            "  rbias = diff_sum/y_true_sum\n",
            "/usr/local/lib/python3.11/dist-packages/numpy/_core/fromnumeric.py:3596: RuntimeWarning: Mean of empty slice.\n",
            "  return _methods._mean(a, axis=axis, dtype=dtype,\n",
            "/usr/local/lib/python3.11/dist-packages/numpy/_core/_methods.py:138: RuntimeWarning: invalid value encountered in scalar divide\n",
            "  ret = ret.dtype.type(ret / rcount)\n",
            "/usr/local/lib/python3.11/dist-packages/HydroErr/HydroErr.py:1534: RuntimeWarning: invalid value encountered in scalar divide\n",
            "  return top / (bot1 * bot2)\n",
            "/tmp/ipython-input-8-1004498154.py:26: RuntimeWarning: invalid value encountered in scalar divide\n",
            "  rbias = diff_sum/y_true_sum\n",
            "/usr/local/lib/python3.11/dist-packages/numpy/_core/fromnumeric.py:3596: RuntimeWarning: Mean of empty slice.\n",
            "  return _methods._mean(a, axis=axis, dtype=dtype,\n",
            "/usr/local/lib/python3.11/dist-packages/numpy/_core/_methods.py:138: RuntimeWarning: invalid value encountered in scalar divide\n",
            "  ret = ret.dtype.type(ret / rcount)\n",
            "/usr/local/lib/python3.11/dist-packages/HydroErr/HydroErr.py:1534: RuntimeWarning: invalid value encountered in scalar divide\n",
            "  return top / (bot1 * bot2)\n",
            "/tmp/ipython-input-8-1004498154.py:26: RuntimeWarning: invalid value encountered in scalar divide\n",
            "  rbias = diff_sum/y_true_sum\n",
            "/usr/local/lib/python3.11/dist-packages/numpy/_core/fromnumeric.py:3596: RuntimeWarning: Mean of empty slice.\n",
            "  return _methods._mean(a, axis=axis, dtype=dtype,\n",
            "/usr/local/lib/python3.11/dist-packages/numpy/_core/_methods.py:138: RuntimeWarning: invalid value encountered in scalar divide\n",
            "  ret = ret.dtype.type(ret / rcount)\n",
            "/usr/local/lib/python3.11/dist-packages/HydroErr/HydroErr.py:1534: RuntimeWarning: invalid value encountered in scalar divide\n",
            "  return top / (bot1 * bot2)\n",
            "/tmp/ipython-input-8-1004498154.py:26: RuntimeWarning: invalid value encountered in scalar divide\n",
            "  rbias = diff_sum/y_true_sum\n",
            "/usr/local/lib/python3.11/dist-packages/numpy/_core/fromnumeric.py:3596: RuntimeWarning: Mean of empty slice.\n",
            "  return _methods._mean(a, axis=axis, dtype=dtype,\n",
            "/usr/local/lib/python3.11/dist-packages/numpy/_core/_methods.py:138: RuntimeWarning: invalid value encountered in scalar divide\n",
            "  ret = ret.dtype.type(ret / rcount)\n",
            "/usr/local/lib/python3.11/dist-packages/HydroErr/HydroErr.py:1534: RuntimeWarning: invalid value encountered in scalar divide\n",
            "  return top / (bot1 * bot2)\n",
            "/tmp/ipython-input-8-1004498154.py:26: RuntimeWarning: invalid value encountered in scalar divide\n",
            "  rbias = diff_sum/y_true_sum\n",
            "/usr/local/lib/python3.11/dist-packages/numpy/_core/fromnumeric.py:3596: RuntimeWarning: Mean of empty slice.\n",
            "  return _methods._mean(a, axis=axis, dtype=dtype,\n",
            "/usr/local/lib/python3.11/dist-packages/numpy/_core/_methods.py:138: RuntimeWarning: invalid value encountered in scalar divide\n",
            "  ret = ret.dtype.type(ret / rcount)\n",
            "/usr/local/lib/python3.11/dist-packages/HydroErr/HydroErr.py:1534: RuntimeWarning: invalid value encountered in scalar divide\n",
            "  return top / (bot1 * bot2)\n",
            "/tmp/ipython-input-8-1004498154.py:26: RuntimeWarning: invalid value encountered in scalar divide\n",
            "  rbias = diff_sum/y_true_sum\n"
          ]
        }
      ]
    },
    {
      "cell_type": "code",
      "source": [
        "saidas = lista_saidas()"
      ],
      "metadata": {
        "id": "p9MOCEmCUQYs"
      },
      "execution_count": 51,
      "outputs": []
    },
    {
      "cell_type": "code",
      "source": [
        "for saida in saidas:\n",
        "    salva_indices(df_indice = globals()[saida], caminho_salvar = '/content/drive/MyDrive/Colab/txts', nome_indice = saida)"
      ],
      "metadata": {
        "id": "hT-Pl36xUkM6",
        "outputId": "ff549f9c-2c0a-4602-ff18-7596f39e59d2",
        "colab": {
          "base_uri": "https://localhost:8080/"
        }
      },
      "execution_count": 70,
      "outputs": [
        {
          "output_type": "stream",
          "name": "stdout",
          "text": [
            "erro_cc\n",
            "erro_bias\n",
            "erro_rmse\n",
            "erro_far\n",
            "erro_pod\n",
            "erro_csi\n",
            "erro_cc_mes\n",
            "erro_bias_mes\n",
            "erro_rmse_mes\n",
            "erro_far_mes\n",
            "erro_pod_mes\n",
            "erro_csi_mes\n"
          ]
        }
      ]
    },
    {
      "cell_type": "code",
      "source": [
        "caminho_salvar = '/content/drive/MyDrive/Colab/txts'\n",
        "nome_indice = saida\n",
        "df_indice = globals()[saida]"
      ],
      "metadata": {
        "id": "BgSqaLOOVfFI"
      },
      "execution_count": 45,
      "outputs": []
    },
    {
      "cell_type": "code",
      "source": [
        "# prompt: concatenar caminho_salvar, nome_indice, df_indice e '.txt'\n",
        "\n",
        "file_path_complete = join(caminho_salvar, nome_indice + '.txt')\n",
        "file_path_complete"
      ],
      "metadata": {
        "id": "4XsjHRtGWG2o"
      },
      "execution_count": null,
      "outputs": []
    },
    {
      "cell_type": "code",
      "source": [
        "join(caminho_salvar,nome_indice + \".txt\")"
      ],
      "metadata": {
        "id": "HHGSHXBfV2CE",
        "outputId": "4b9fe5f7-12a9-4515-86f7-4e023e0f01b2",
        "colab": {
          "base_uri": "https://localhost:8080/",
          "height": 36
        }
      },
      "execution_count": 48,
      "outputs": [
        {
          "output_type": "execute_result",
          "data": {
            "text/plain": [
              "'/content/drive/MyDrive/Colab/txts/erro_cc.txt'"
            ],
            "application/vnd.google.colaboratory.intrinsic+json": {
              "type": "string"
            }
          },
          "metadata": {},
          "execution_count": 48
        }
      ]
    },
    {
      "cell_type": "code",
      "source": [
        "join(caminho_salvar,nome_indice,\".txt\")"
      ],
      "metadata": {
        "id": "4kiskOkZVcZy"
      },
      "execution_count": null,
      "outputs": []
    },
    {
      "cell_type": "code",
      "source": [
        "pd_df_indice.to_csv(join(caminho_salvar,nome_indice,\".txt\"), sep=';', index=False)"
      ],
      "metadata": {
        "id": "iIrcu1cLVZHm"
      },
      "execution_count": null,
      "outputs": []
    },
    {
      "cell_type": "code",
      "source": [
        "tt = pd.DataFrame({'Indice': erro_cc})"
      ],
      "metadata": {
        "id": "9wT-O7wDaRcH"
      },
      "execution_count": 66,
      "outputs": []
    },
    {
      "cell_type": "code",
      "source": [
        "# prompt: conferir se uma variavel é pandas.core.frame.DataFrame\n",
        "\n",
        "import pandas as pd\n",
        "\n",
        "print(isinstance(tt, pd.core.frame.DataFrame))\n"
      ],
      "metadata": {
        "id": "qs1BfKxMbWET"
      },
      "execution_count": null,
      "outputs": []
    },
    {
      "cell_type": "code",
      "source": [
        "isinstance(tt, pd.core.frame.DataFrame)"
      ],
      "metadata": {
        "id": "Vr8qpP7Lar93",
        "outputId": "eeadcbe7-0f22-45b0-9af4-b828b6879e46",
        "colab": {
          "base_uri": "https://localhost:8080/"
        }
      },
      "execution_count": 68,
      "outputs": [
        {
          "output_type": "execute_result",
          "data": {
            "text/plain": [
              "True"
            ]
          },
          "metadata": {},
          "execution_count": 68
        }
      ]
    },
    {
      "cell_type": "code",
      "source": [],
      "metadata": {
        "id": "vegCKQqva2U6"
      },
      "execution_count": null,
      "outputs": []
    }
  ]
}