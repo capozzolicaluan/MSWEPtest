{
  "nbformat": 4,
  "nbformat_minor": 0,
  "metadata": {
    "colab": {
      "provenance": [],
      "authorship_tag": "ABX9TyOTNwg5ZRu85ad4UF3dE7QL",
      "include_colab_link": true
    },
    "kernelspec": {
      "name": "python3",
      "display_name": "Python 3"
    },
    "language_info": {
      "name": "python"
    }
  },
  "cells": [
    {
      "cell_type": "markdown",
      "metadata": {
        "id": "view-in-github",
        "colab_type": "text"
      },
      "source": [
        "<a href=\"https://colab.research.google.com/github/capozzolicaluan/MSWEPtest/blob/main/ajuste_bases.ipynb\" target=\"_parent\"><img src=\"https://colab.research.google.com/assets/colab-badge.svg\" alt=\"Open In Colab\"/></a>"
      ]
    },
    {
      "cell_type": "code",
      "execution_count": null,
      "metadata": {
        "id": "dh83-JwlbIMx"
      },
      "outputs": [],
      "source": [
        "# Limpar todas as variáveis\n",
        "from IPython import get_ipython\n",
        "get_ipython().magic('reset -sf')\n",
        "\n",
        "# Código para reiniciar o ambiente do Colab\n",
        "import os\n",
        "os.kill(os.getpid(), 9)"
      ]
    },
    {
      "cell_type": "code",
      "source": [
        "# Importando as bibliotecas necessárias\n",
        "import requests\n",
        "import xml.etree.ElementTree as ET\n",
        "import pandas as pd\n",
        "from datetime import datetime, timedelta\n",
        "import gc\n",
        "import os as os\n",
        "from datetime import datetime, timedelta\n",
        "from matplotlib import pyplot as plt\n",
        "import seaborn as sns\n",
        "from google.colab import data_table\n",
        "import math\n",
        "from matplotlib.colors import TABLEAU_COLORS, same_color\n",
        "import matplotlib.pyplot as plt\n",
        "import glob\n",
        "import xarray as xr\n",
        "from tqdm import tqdm # para monitorar o progresso do processo\n",
        "\n",
        "\n",
        "# Liberar memória manualmente\n",
        "_ = gc.collect()"
      ],
      "metadata": {
        "id": "ux8ceFOhbP18"
      },
      "execution_count": 18,
      "outputs": []
    },
    {
      "cell_type": "code",
      "source": [
        "from google.colab import drive\n",
        "drive.mount('/content/drive',force_remount=True)"
      ],
      "metadata": {
        "colab": {
          "base_uri": "https://localhost:8080/"
        },
        "id": "nsGCvSDsbX76",
        "outputId": "67599b17-0433-41cf-a94d-00a0c5cab7c6"
      },
      "execution_count": 19,
      "outputs": [
        {
          "output_type": "stream",
          "name": "stdout",
          "text": [
            "Mounted at /content/drive\n"
          ]
        }
      ]
    },
    {
      "cell_type": "code",
      "source": [
        "caminho_dados_mswep = \"/content/drive/MyDrive/Colab/txts\"\n",
        "caminho_dados_hidro = \"/content/drive/MyDrive/\""
      ],
      "metadata": {
        "id": "DqxrR2rSbeWt"
      },
      "execution_count": 91,
      "outputs": []
    },
    {
      "cell_type": "code",
      "source": [
        "ini_analise_dataBR = \"01/01/2021 00:00:00\" # data e hora de inicio horas sempre de 15 em 15 min\n",
        "fim_analise_dadaBR = \"31/12/2024 23:45:00\" # data e hora de  horas sempre de 15 em 15 min"
      ],
      "metadata": {
        "id": "t28S11ixb8Ip"
      },
      "execution_count": 21,
      "outputs": []
    },
    {
      "cell_type": "code",
      "source": [
        "start_datetime = pd.to_datetime(ini_analise_dataBR, format=\"%d/%m/%Y %H:%M:%S\")\n",
        "end_datetime = pd.to_datetime(fim_analise_dadaBR, format=\"%d/%m/%Y %H:%M:%S\")"
      ],
      "metadata": {
        "id": "_0akPNEMemny"
      },
      "execution_count": 22,
      "outputs": []
    },
    {
      "cell_type": "code",
      "source": [
        "# Converter as strings de data e hora para objetos datetime do pandas\n",
        "start_datetime = pd.to_datetime(ini_analise_dataBR, format=\"%d/%m/%Y %H:%M:%S\")\n",
        "end_datetime = pd.to_datetime(fim_analise_dadaBR, format=\"%d/%m/%Y %H:%M:%S\")\n",
        "\n",
        "# Gerar a sequência de datas a cada 3 horas\n",
        "datetime_sequence = pd.date_range(start=start_datetime, end=end_datetime, freq='3h')\n",
        "\n",
        "# Criar um DataFrame para armazenar os resultados\n",
        "df_dates = pd.DataFrame(datetime_sequence, columns=['datetime'])\n",
        "\n",
        "# Extrair dia juliano, ano e hora\n",
        "df_dates['julian_day'] = df_dates['datetime'].dt.dayofyear\n",
        "df_dates['year'] = df_dates['datetime'].dt.year\n",
        "df_dates['hour'] = df_dates['datetime'].dt.hour\n",
        "\n",
        "# Crie a lista de strings no formato YYYYJJJ.HH.txt\n",
        "file_list = [f\"{row['year']}{row['julian_day']:03d}.{row['hour']:02d}.txt\" for index, row in df_dates.iterrows()]"
      ],
      "metadata": {
        "id": "X7EX0KfnfOWb"
      },
      "execution_count": 39,
      "outputs": []
    },
    {
      "cell_type": "code",
      "source": [
        "output_data = []\n",
        "\n",
        "for file_name in tqdm(file_list, desc=\"Processing files\"):\n",
        "  file_path = os.path.join(\"/content/drive/MyDrive/Colab/txts/\", file_name)\n",
        "  # Read the text file\n",
        "  df = pd.read_csv(file_path, header=0, sep=',')\n",
        "\n",
        "  # Select the \"chuva\" column\n",
        "  chuva_column = df['chuva']\n",
        "\n",
        "  # Transpose the \"chuva\" column\n",
        "  chuva_row = chuva_column.values.tolist()\n",
        "\n",
        "  # Save the transposed column to the output variable\n",
        "  output_data.append(chuva_row)\n",
        "\n",
        "# Create the output DataFrame\n",
        "output_df = pd.DataFrame(output_data)\n",
        "\n",
        "# column names\n",
        "output_df.columns = df['nome'].astype(int).tolist()"
      ],
      "metadata": {
        "colab": {
          "base_uri": "https://localhost:8080/"
        },
        "id": "ahSoBxOvnN5n",
        "outputId": "baca4e7a-c47d-4efe-8f95-2461242a86b1"
      },
      "execution_count": 40,
      "outputs": [
        {
          "output_type": "stream",
          "name": "stderr",
          "text": [
            "Processing files: 100%|██████████| 11688/11688 [1:03:26<00:00,  3.07it/s]\n"
          ]
        }
      ]
    },
    {
      "cell_type": "code",
      "source": [
        "# Definir o caminho para salvar o arquivo TXT\n",
        "output_file_path = \"/content/drive/MyDrive/Colab/txts/matriz_mswep.txt\"\n",
        "\n",
        "# adicionar a coluna de data-hora\n",
        "# output_df.insert(0, 'datetime', df_dates['datetime'])\n",
        "\n",
        "# Salvar o DataFrame como um arquivo TXT\n",
        "output_df.to_csv(output_file_path, sep=';', index=False, header=True)\n",
        "\n",
        "print(f\"DataFrame salvo em: {output_file_path}\")"
      ],
      "metadata": {
        "colab": {
          "base_uri": "https://localhost:8080/"
        },
        "id": "EUWbxAzv51Tu",
        "outputId": "a80a9729-e6f8-47ee-bb67-288db231705e"
      },
      "execution_count": 253,
      "outputs": [
        {
          "output_type": "stream",
          "name": "stdout",
          "text": [
            "DataFrame salvo em: /content/drive/MyDrive/Colab/txts/matriz_mswep.txt\n"
          ]
        }
      ]
    },
    {
      "cell_type": "code",
      "source": [
        "# Especificar o caminho do arquivo Excel\n",
        "caminho_excel = \"/content/drive/MyDrive/dados_plu_2020-01-01_2024-12-31.xlsx\"\n",
        "\n",
        "# Ler todas as abas do arquivo Excel em um dicionário de DataFrames\n",
        "# A chave do dicionário será o nome da aba\n",
        "dict_dfs = pd.read_excel(caminho_excel, sheet_name=None)\n",
        "\n",
        "# Criar uma lista de DataFrames a partir dos valores do dicionário\n",
        "lista_dfs_excel = list(dict_dfs.values())"
      ],
      "metadata": {
        "id": "VFH9U7ZkI7uf"
      },
      "execution_count": null,
      "outputs": []
    },
    {
      "cell_type": "code",
      "source": [
        "output_hidro = [None]*len(dict_dfs)\n",
        "\n",
        "for indice in range(len(dict_dfs)):\n",
        "  dados = lista_dfs_excel[indice]\n",
        "  dados_ = dados.iloc[35136:,[1,4]]\n",
        "  dados_['DataHora'] = pd.to_datetime(dados_['DataHora'])\n",
        "  dados_ = dados_.set_index('DataHora')\n",
        "  dados_3h = dados_['Chuva'].resample('3H', label='right', closed='right').sum(min_count=10)\n",
        "  output_hidro[indice] = dados_3h.values.tolist()\n",
        "\n",
        "output_hidro_df = pd.DataFrame(output_hidro).T"
      ],
      "metadata": {
        "id": "vwrGr4ZVW89D"
      },
      "execution_count": 247,
      "outputs": []
    },
    {
      "cell_type": "code",
      "source": [
        "output_hidro_df.columns = df['nome'].astype(int).tolist()\n",
        "output_hidro_df = output_hidro_df.iloc[:-1]"
      ],
      "metadata": {
        "id": "gSJAWaajkvQE"
      },
      "execution_count": 248,
      "outputs": []
    },
    {
      "cell_type": "code",
      "source": [
        "# adicionar a coluna de data-hora\n",
        "output_hidro_df.insert(0, 'datetime', df_dates['datetime'])"
      ],
      "metadata": {
        "id": "5uTyiAA8lTS1"
      },
      "execution_count": 249,
      "outputs": []
    },
    {
      "cell_type": "code",
      "source": [
        "# Salvar o DataFrame como um arquivo TXT\n",
        "# Definir o caminho para salvar o arquivo TXT\n",
        "output_file_path = \"/content/drive/MyDrive/Colab/txts/matriz_hidro.txt\"\n",
        "\n",
        "output_hidro_df.to_csv(output_file_path, sep=';', index=False, header=True)"
      ],
      "metadata": {
        "id": "NeLmBF2QmJj2"
      },
      "execution_count": 256,
      "outputs": []
    }
  ]
}