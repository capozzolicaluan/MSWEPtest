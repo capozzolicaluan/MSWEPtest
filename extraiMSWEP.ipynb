{
  "nbformat": 4,
  "nbformat_minor": 0,
  "metadata": {
    "colab": {
      "provenance": [],
      "authorship_tag": "ABX9TyNsWQxiW7xa2cauJ4LKJe5q",
      "include_colab_link": true
    },
    "kernelspec": {
      "name": "python3",
      "display_name": "Python 3"
    },
    "language_info": {
      "name": "python"
    }
  },
  "cells": [
    {
      "cell_type": "markdown",
      "metadata": {
        "id": "view-in-github",
        "colab_type": "text"
      },
      "source": [
        "<a href=\"https://colab.research.google.com/github/capozzolicaluan/MSWEPtest/blob/main/extraiMSWEP.ipynb\" target=\"_parent\"><img src=\"https://colab.research.google.com/assets/colab-badge.svg\" alt=\"Open In Colab\"/></a>"
      ]
    },
    {
      "cell_type": "code",
      "execution_count": null,
      "metadata": {
        "id": "E95yr0KBNt6r"
      },
      "outputs": [],
      "source": [
        "# Limpar todas as variáveis\n",
        "from IPython import get_ipython\n",
        "get_ipython().magic('reset -sf')\n",
        "\n",
        "# Código para reiniciar o ambiente do Colab\n",
        "import os\n",
        "os.kill(os.getpid(), 9)"
      ]
    },
    {
      "cell_type": "code",
      "source": [
        "pip install netcdf4"
      ],
      "metadata": {
        "colab": {
          "base_uri": "https://localhost:8080/"
        },
        "id": "4fM5-iS2RXNj",
        "outputId": "5cc42aa0-6a7c-4b38-84b9-22c8410b4be0"
      },
      "execution_count": 1,
      "outputs": [
        {
          "output_type": "stream",
          "name": "stdout",
          "text": [
            "Requirement already satisfied: netcdf4 in /usr/local/lib/python3.11/dist-packages (1.7.2)\n",
            "Requirement already satisfied: cftime in /usr/local/lib/python3.11/dist-packages (from netcdf4) (1.6.4.post1)\n",
            "Requirement already satisfied: certifi in /usr/local/lib/python3.11/dist-packages (from netcdf4) (2025.6.15)\n",
            "Requirement already satisfied: numpy in /usr/local/lib/python3.11/dist-packages (from netcdf4) (2.0.2)\n"
          ]
        }
      ]
    },
    {
      "cell_type": "code",
      "source": [
        "# Importando as bibliotecas necessárias\n",
        "import requests\n",
        "import xml.etree.ElementTree as ET\n",
        "import pandas as pd\n",
        "from datetime import datetime, timedelta\n",
        "import gc\n",
        "import os as os\n",
        "from datetime import datetime, timedelta\n",
        "from matplotlib import pyplot as plt\n",
        "import seaborn as sns\n",
        "from google.colab import data_table\n",
        "import math\n",
        "from matplotlib.colors import TABLEAU_COLORS, same_color\n",
        "from netCDF4 import Dataset\n",
        "import matplotlib.pyplot as plt\n",
        "import glob\n",
        "import xarray as xr\n",
        "from tqdm import tqdm # para monitorar o progresso do processo\n",
        "\n",
        "\n",
        "# Liberar memória manualmente\n",
        "_ = gc.collect()"
      ],
      "metadata": {
        "id": "5-8aoEtAOf_F"
      },
      "execution_count": 2,
      "outputs": []
    },
    {
      "cell_type": "code",
      "source": [
        "from google.colab import drive\n",
        "drive.mount('/content/drive',force_remount=True)"
      ],
      "metadata": {
        "colab": {
          "base_uri": "https://localhost:8080/"
        },
        "id": "yvn2E4PlOx0i",
        "outputId": "08c6c665-036e-407a-b2d8-dfb57260690b"
      },
      "execution_count": 3,
      "outputs": [
        {
          "output_type": "stream",
          "name": "stdout",
          "text": [
            "Mounted at /content/drive\n"
          ]
        }
      ]
    },
    {
      "cell_type": "code",
      "source": [
        "caminho_teste = \"/content/drive/MyDrive/MSWEP_V280/NRT/3hourly\""
      ],
      "metadata": {
        "id": "qnf5t2MzPBJa"
      },
      "execution_count": 4,
      "outputs": []
    },
    {
      "cell_type": "code",
      "source": [
        "lista_estacoes = pd.read_excel(\"/content/drive/MyDrive/estacoes_mswep.xlsx\", header = None, names=['codigo','lat','lon'])"
      ],
      "metadata": {
        "id": "IxVRJuFmmPGX"
      },
      "execution_count": 5,
      "outputs": []
    },
    {
      "cell_type": "code",
      "source": [
        "arquivos=os.listdir(caminho_teste)"
      ],
      "metadata": {
        "id": "TvKlSrpG4RpK"
      },
      "execution_count": 6,
      "outputs": []
    },
    {
      "cell_type": "code",
      "source": [
        "# Filtra apenas os arquivos que começam com os anos desejados\n",
        "anos_validos = (\"2020\",\"2021\",\"2022\",\"2023\",\"2024\")\n",
        "arquivos_filtrados = [arq for arq in arquivos if arq.startswith(anos_validos)]"
      ],
      "metadata": {
        "id": "mLsPq1VaDdk0"
      },
      "execution_count": 7,
      "outputs": []
    },
    {
      "cell_type": "code",
      "source": [
        "lista_arquivos = [os.path.join(caminho_teste, nome) for nome in arquivos_filtrados]"
      ],
      "metadata": {
        "id": "JTIow280EgPK"
      },
      "execution_count": 8,
      "outputs": []
    },
    {
      "cell_type": "code",
      "source": [
        "lista_arquivos = lista_arquivos[0:100]"
      ],
      "metadata": {
        "id": "2lz86KjiL2Fm"
      },
      "execution_count": 12,
      "outputs": []
    },
    {
      "cell_type": "code",
      "source": [
        "# Pasta de saída (cria se não existir)\n",
        "pasta_saida = \"/content/drive/MyDrive/Colab/txts\"\n",
        "os.makedirs(pasta_saida, exist_ok=True)"
      ],
      "metadata": {
        "id": "3NOW0eReAyGq"
      },
      "execution_count": 9,
      "outputs": []
    },
    {
      "cell_type": "code",
      "source": [
        "for arquivo in tqdm(lista_arquivos):\n",
        "    try:\n",
        "        with xr.open_dataset(arquivo) as ds:\n",
        "            linhas = []\n",
        "\n",
        "            for i in range(len(lista_estacoes)):\n",
        "                est = lista_estacoes.iloc[i]\n",
        "                lat, lon, nome = est['lat'], est['lon'], est['codigo']\n",
        "\n",
        "                valor = ds['precipitation'].sel(lat=lat, lon=lon, method='nearest').values.item()\n",
        "                linha = f\"{nome},{lat},{lon},{valor:.4f}\"\n",
        "                linhas.append(linha)\n",
        "\n",
        "        nome_base = os.path.basename(arquivo).replace(\".nc\", \"\")\n",
        "        caminho_saida = os.path.join(pasta_saida, f\"{nome_base}.txt\")\n",
        "\n",
        "        with open(caminho_saida, \"w\") as f:\n",
        "            f.write(\"nome,lat,lon,chuva\\n\")\n",
        "            f.write(\"\\n\".join(linhas))\n",
        "\n",
        "    except Exception as e:\n",
        "        print(f\"Erro ao processar {arquivo}: {e}\")\n",
        "\n",
        "    gc.collect()"
      ],
      "metadata": {
        "id": "6IK1lG0TAiG6",
        "outputId": "e666f9c3-5080-465e-9c52-851f832bc5b1",
        "colab": {
          "base_uri": "https://localhost:8080/"
        }
      },
      "execution_count": 10,
      "outputs": [
        {
          "output_type": "stream",
          "name": "stderr",
          "text": [
            "100%|██████████| 11987/11987 [5:58:23<00:00,  1.79s/it]\n"
          ]
        }
      ]
    },
    {
      "cell_type": "code",
      "source": [
        "lista_chuva = []\n",
        "\n",
        "for arquivo in lista_arquivos:\n",
        "    try:\n",
        "        with xr.open_dataset(arquivo) as ds:\n",
        "            # Lista para os valores de cada estação neste arquivo\n",
        "            precipitation_at_point = [None] * len(lista_estacoes)\n",
        "\n",
        "            for i in range(len(lista_estacoes)):\n",
        "                lat = lista_estacoes.iloc[i]['lat']\n",
        "                lon = lista_estacoes.iloc[i]['lon']\n",
        "\n",
        "                # Seleciona valor de chuva mais próximo e converte para número\n",
        "                valor = ds['precipitation'].sel(lat=lat, lon=lon, method='nearest').values.item()\n",
        "                precipitation_at_point[i] = valor\n",
        "\n",
        "            lista_chuva.append(precipitation_at_point)\n",
        "            print(f\"Processado: {arquivo}\")\n",
        "\n",
        "    except Exception as e:\n",
        "        print(f\"Erro ao processar {arquivo}: {e}\")\n",
        "\n",
        "    gc.collect()"
      ],
      "metadata": {
        "id": "g7mJqQXBdc3-"
      },
      "execution_count": null,
      "outputs": []
    }
  ]
}