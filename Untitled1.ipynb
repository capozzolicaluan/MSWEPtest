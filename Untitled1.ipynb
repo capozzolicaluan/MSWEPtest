{
  "nbformat": 4,
  "nbformat_minor": 0,
  "metadata": {
    "colab": {
      "provenance": [],
      "authorship_tag": "ABX9TyNp+TH6VW3saba7U6bm3tU7",
      "include_colab_link": true
    },
    "kernelspec": {
      "name": "python3",
      "display_name": "Python 3"
    },
    "language_info": {
      "name": "python"
    }
  },
  "cells": [
    {
      "cell_type": "markdown",
      "metadata": {
        "id": "view-in-github",
        "colab_type": "text"
      },
      "source": [
        "<a href=\"https://colab.research.google.com/github/capozzolicaluan/MSWEPtest/blob/main/Untitled1.ipynb\" target=\"_parent\"><img src=\"https://colab.research.google.com/assets/colab-badge.svg\" alt=\"Open In Colab\"/></a>"
      ]
    },
    {
      "cell_type": "code",
      "execution_count": null,
      "metadata": {
        "id": "gSd6pgC76E5z"
      },
      "outputs": [],
      "source": [
        "# Limpar todas as variáveis\n",
        "from IPython import get_ipython\n",
        "get_ipython().magic('reset -sf')\n",
        "\n",
        "# Código para reiniciar o ambiente do Colab\n",
        "import os\n",
        "os.kill(os.getpid(), 9)"
      ]
    },
    {
      "cell_type": "code",
      "source": [
        "!pip install HydroErr"
      ],
      "metadata": {
        "id": "y2km_Esknmjn",
        "outputId": "cf4011a5-8a3a-4aa7-a243-19814fe49d38",
        "colab": {
          "base_uri": "https://localhost:8080/"
        }
      },
      "execution_count": 1,
      "outputs": [
        {
          "output_type": "stream",
          "name": "stdout",
          "text": [
            "Collecting HydroErr\n",
            "  Downloading HydroErr-1.24.tar.gz (19 kB)\n",
            "  Preparing metadata (setup.py) ... \u001b[?25l\u001b[?25hdone\n",
            "Requirement already satisfied: numpy in /usr/local/lib/python3.11/dist-packages (from HydroErr) (2.0.2)\n",
            "Requirement already satisfied: scipy in /usr/local/lib/python3.11/dist-packages (from HydroErr) (1.15.3)\n",
            "Building wheels for collected packages: HydroErr\n",
            "  Building wheel for HydroErr (setup.py) ... \u001b[?25l\u001b[?25hdone\n",
            "  Created wheel for HydroErr: filename=HydroErr-1.24-py3-none-any.whl size=20183 sha256=a32e8413d58eb804a81b03a6e37ed2918addaabb140dc4298e6dcad263a25661\n",
            "  Stored in directory: /root/.cache/pip/wheels/30/c0/62/d4f417372149a7f442261b56c7dab62a70b5a4e6dd63b14510\n",
            "Successfully built HydroErr\n",
            "Installing collected packages: HydroErr\n",
            "Successfully installed HydroErr-1.24\n"
          ]
        }
      ]
    },
    {
      "cell_type": "code",
      "source": [
        "# Importando as bibliotecas necessárias\n",
        "import requests\n",
        "import pandas as pd\n",
        "import gc\n",
        "from google.colab import data_table\n",
        "import math\n",
        "import HydroErr as he\n",
        "\n",
        "# Liberar memória manualmente\n",
        "_ = gc.collect()"
      ],
      "metadata": {
        "id": "pdVekaQL6KpC"
      },
      "execution_count": 2,
      "outputs": []
    },
    {
      "cell_type": "code",
      "source": [
        "import numpy as np\n",
        "\n",
        "def cont_index(obs, sim, limiar=0.5):\n",
        "    \"\"\"\n",
        "    Calcula os índices POD, FAR e CSI a partir de séries observadas e previstas de chuva.\n",
        "\n",
        "    Parâmetros:\n",
        "    - hidro_sem_nan: Série pandas (ou array NumPy) com dados observados (sem NaN).\n",
        "    - mswep_sem_nan: Série pandas (ou array NumPy) com dados previstos (sem NaN).\n",
        "    - limiar: Valor em mm para considerar a ocorrência de chuva (default: 0.5 mm).\n",
        "\n",
        "    Retorna:\n",
        "    - dicionário com hits, misses, false_alarms, correct_negatives, pod, far e csi.\n",
        "    \"\"\"\n",
        "\n",
        "    # Converte para arrays NumPy, se forem séries pandas\n",
        "    observado = np.asarray(obs)\n",
        "    previsto = np.asarray(sim)\n",
        "\n",
        "    # BIAS relativo\n",
        "    y_true = observado.reshape(len(observado),1)\n",
        "    y_pred = previsto.reshape(len(previsto),1)\n",
        "    diff = (y_true-y_pred)\n",
        "    diff_sum = diff.sum()\n",
        "    y_true_sum = y_true.sum()\n",
        "    rbias = diff_sum/y_true_sum\n",
        "\n",
        "    # Aplica o limiar para binarizar as observações e previsões\n",
        "    observado_chuva = observado >= limiar\n",
        "    previsto_chuva = previsto >= limiar\n",
        "\n",
        "\n",
        "\n",
        "    # Tabela de contingência\n",
        "    hits = ((observado_chuva == True) & (previsto_chuva == True)).sum()\n",
        "    misses = ((observado_chuva == True) & (previsto_chuva == False)).sum()\n",
        "    false_alarms = ((observado_chuva == False) & (previsto_chuva == True)).sum()\n",
        "    correct_negatives = ((observado_chuva == False) & (previsto_chuva == False)).sum()\n",
        "\n",
        "    # Cálculo dos índices com verificação para evitar divisão por zero\n",
        "    pod = hits / (hits + misses) if (hits + misses) > 0 else np.nan\n",
        "    far = false_alarms / (false_alarms + correct_negatives) if (false_alarms + correct_negatives) > 0 else np.nan\n",
        "    csi = (pod - far) / (1 - far) if (1 - far) != 0 else np.nan\n",
        "\n",
        "    return {\n",
        "        'rbias': rbias,\n",
        "        'pod': pod,\n",
        "        'far': far,\n",
        "        'csi': csi\n",
        "    }"
      ],
      "metadata": {
        "id": "THE8QGg_B1eo"
      },
      "execution_count": 34,
      "outputs": []
    },
    {
      "cell_type": "code",
      "source": [
        "from google.colab import drive\n",
        "drive.mount('/content/drive',force_remount=True)"
      ],
      "metadata": {
        "colab": {
          "base_uri": "https://localhost:8080/"
        },
        "id": "0L__WHDg6Obv",
        "outputId": "08becc6b-def6-4b69-d2a8-27331510d623"
      },
      "execution_count": 3,
      "outputs": [
        {
          "output_type": "stream",
          "name": "stdout",
          "text": [
            "Mounted at /content/drive\n"
          ]
        }
      ]
    },
    {
      "cell_type": "code",
      "source": [
        "from posixpath import join\n",
        "file_path = \"/content/drive/MyDrive/Colab/txts\"\n",
        "\n",
        "dados_hidro = pd.read_csv(join(file_path, \"matriz_hidro.txt\"), sep = ';')\n",
        "dados_mswep = pd.read_csv(join(file_path, \"matriz_mswep.txt\"), sep = ';')"
      ],
      "metadata": {
        "id": "bwNRd4_c7fj9"
      },
      "execution_count": 4,
      "outputs": []
    },
    {
      "cell_type": "code",
      "source": [
        "for i in range(dados_mswep.shape[1]-1):\n",
        "  indices = dados_mswep[ dados_mswep.iloc[:,(i+1)] < 0.2].index\n",
        "  dados_mswep.iloc[indices,(i+1)] = 0"
      ],
      "metadata": {
        "id": "kDrqHBCU7ZwR"
      },
      "execution_count": 5,
      "outputs": []
    },
    {
      "cell_type": "code",
      "source": [
        "for i in range(dados_hidro.shape[1]-1):\n",
        "  indices = dados_hidro[ dados_hidro.iloc[:,(i+1)] < 0.2].index\n",
        "  dados_hidro.iloc[indices,(i+1)] = 0"
      ],
      "metadata": {
        "id": "S_dmvKEnEI9w"
      },
      "execution_count": 6,
      "outputs": []
    },
    {
      "cell_type": "code",
      "source": [
        "# statistics metrics: correlation coef, relative bias, rmse, pod, false alarm ratio, critical success index\n",
        "erro_cc = [None] * (dados_mswep.shape[1]-1)\n",
        "erro_bias = [None] * (dados_mswep.shape[1]-1)\n",
        "erro_rmse = [None] * (dados_mswep.shape[1]-1)\n",
        "erro_far = [None] * (dados_mswep.shape[1]-1)\n",
        "erro_pod = [None] * (dados_mswep.shape[1]-1)\n",
        "erro_csi = [None] * (dados_mswep.shape[1]-1)\n",
        "\n",
        "for estacao_i in range(dados_mswep.shape[1]-1):\n",
        "\n",
        "  sem_nan = dados_hidro.iloc[:, estacao_i+1].dropna().index\n",
        "\n",
        "  hidro_sem_nan = dados_hidro.iloc[sem_nan,estacao_i+1]\n",
        "  mswep_sem_nan = dados_mswep.iloc[sem_nan,estacao_i+1]\n",
        "\n",
        "  erro_cc[estacao_i] = he.pearson_r(simulated_array=mswep_sem_nan, observed_array=hidro_sem_nan)\n",
        "  erro_rmse[estacao_i] = he.rmse(simulated_array=mswep_sem_nan, observed_array=hidro_sem_nan)\n",
        "  erro_bias[estacao_i] = cont_index(obs=hidro_sem_nan, sim=mswep_sem_nan)['rbias']\n",
        "  erro_far[estacao_i] = cont_index(obs=hidro_sem_nan, sim=mswep_sem_nan)['far']\n",
        "  erro_pod[estacao_i] = cont_index(obs=hidro_sem_nan, sim=mswep_sem_nan)['pod']\n",
        "  erro_csi[estacao_i] = cont_index(obs=hidro_sem_nan, sim=mswep_sem_nan)['csi']\n",
        "\n"
      ],
      "metadata": {
        "colab": {
          "base_uri": "https://localhost:8080/"
        },
        "id": "8NwC1MecnSG2",
        "outputId": "1b835c3a-ae8b-4a49-a2c2-8cf95f46e8c8"
      },
      "execution_count": 36,
      "outputs": [
        {
          "output_type": "stream",
          "name": "stderr",
          "text": [
            "/usr/local/lib/python3.11/dist-packages/numpy/_core/fromnumeric.py:3596: RuntimeWarning: Mean of empty slice.\n",
            "  return _methods._mean(a, axis=axis, dtype=dtype,\n",
            "/usr/local/lib/python3.11/dist-packages/numpy/_core/_methods.py:138: RuntimeWarning: invalid value encountered in scalar divide\n",
            "  ret = ret.dtype.type(ret / rcount)\n",
            "/usr/local/lib/python3.11/dist-packages/HydroErr/HydroErr.py:1534: RuntimeWarning: invalid value encountered in scalar divide\n",
            "  return top / (bot1 * bot2)\n",
            "/tmp/ipython-input-34-2992364878.py:26: RuntimeWarning: invalid value encountered in scalar divide\n",
            "  rbias = diff_sum/y_true_sum\n"
          ]
        }
      ]
    },
    {
      "cell_type": "code",
      "source": [
        "# prompt: criar um boxplot com erro_me\n",
        "\n",
        "import matplotlib.pyplot as plt\n",
        "import seaborn as sns\n",
        "\n",
        "plt.figure(figsize=(10, 6))\n",
        "sns.boxplot(y=erro_bias)\n",
        "plt.title('Boxplot de Erro Médio (ME)')\n",
        "plt.ylabel('Erro Médio')\n",
        "plt.show()\n"
      ],
      "metadata": {
        "colab": {
          "base_uri": "https://localhost:8080/",
          "height": 526
        },
        "id": "vIStiIEByICJ",
        "outputId": "fba3cb87-2b66-404c-f878-1a0cffaf274e"
      },
      "execution_count": 38,
      "outputs": [
        {
          "output_type": "display_data",
          "data": {
            "text/plain": [
              "<Figure size 1000x600 with 1 Axes>"
            ],
            "image/png": "[encoded data removed]"
          },
          "metadata": {}
        }
      ]
    }
  ]
}