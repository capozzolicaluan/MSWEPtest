{
  "nbformat": 4,
  "nbformat_minor": 0,
  "metadata": {
    "colab": {
      "provenance": [],
      "authorship_tag": "ABX9TyMzquMhoEehWfHPkyDGKlYQ",
      "include_colab_link": true
    },
    "kernelspec": {
      "name": "python3",
      "display_name": "Python 3"
    },
    "language_info": {
      "name": "python"
    }
  },
  "cells": [
    {
      "cell_type": "markdown",
      "metadata": {
        "id": "view-in-github",
        "colab_type": "text"
      },
      "source": [
        "<a href=\"https://colab.research.google.com/github/capozzolicaluan/MSWEPtest/blob/main/Untitled1.ipynb\" target=\"_parent\"><img src=\"https://colab.research.google.com/assets/colab-badge.svg\" alt=\"Open In Colab\"/></a>"
      ]
    },
    {
      "cell_type": "code",
      "execution_count": null,
      "metadata": {
        "id": "gSd6pgC76E5z"
      },
      "outputs": [],
      "source": [
        "# Limpar todas as variáveis\n",
        "from IPython import get_ipython\n",
        "get_ipython().magic('reset -sf')\n",
        "\n",
        "# Código para reiniciar o ambiente do Colab\n",
        "import os\n",
        "os.kill(os.getpid(), 9)"
      ]
    },
    {
      "cell_type": "code",
      "source": [
        "pip install HydroErr"
      ],
      "metadata": {
        "id": "y2km_Esknmjn"
      },
      "execution_count": null,
      "outputs": []
    },
    {
      "cell_type": "code",
      "source": [
        "# Importando as bibliotecas necessárias\n",
        "import requests\n",
        "import pandas as pd\n",
        "import gc\n",
        "from google.colab import data_table\n",
        "import math\n",
        "import HydroErr as he\n",
        "\n",
        "# Liberar memória manualmente\n",
        "_ = gc.collect()"
      ],
      "metadata": {
        "id": "pdVekaQL6KpC"
      },
      "execution_count": 30,
      "outputs": []
    },
    {
      "cell_type": "code",
      "source": [
        "from google.colab import drive\n",
        "drive.mount('/content/drive',force_remount=True)"
      ],
      "metadata": {
        "colab": {
          "base_uri": "https://localhost:8080/"
        },
        "id": "0L__WHDg6Obv",
        "outputId": "b7940bd6-9d3b-4a90-bfc9-01c468bf6abc"
      },
      "execution_count": 31,
      "outputs": [
        {
          "output_type": "stream",
          "name": "stdout",
          "text": [
            "Mounted at /content/drive\n"
          ]
        }
      ]
    },
    {
      "cell_type": "code",
      "source": [
        "from posixpath import join\n",
        "file_path = \"/content/drive/MyDrive/Colab/txts\"\n",
        "\n",
        "dados_hidro = pd.read_csv(join(file_path, \"matriz_hidro.txt\"), sep = ';')\n",
        "dados_mswep = pd.read_csv(join(file_path, \"matriz_mswep.txt\"), sep = ';')"
      ],
      "metadata": {
        "id": "bwNRd4_c7fj9"
      },
      "execution_count": 32,
      "outputs": []
    },
    {
      "cell_type": "code",
      "source": [
        "for i in range(dados_mswep.shape[1]-1):\n",
        "  indices = dados_mswep[ dados_mswep.iloc[:,(i+1)] < 0.2].index\n",
        "  dados_mswep.iloc[indices,(i+1)] = 0"
      ],
      "metadata": {
        "id": "kDrqHBCU7ZwR"
      },
      "execution_count": 33,
      "outputs": []
    },
    {
      "cell_type": "code",
      "source": [
        "for i in range(dados_hidro.shape[1]-1):\n",
        "  indices = dados_hidro[ dados_hidro.iloc[:,(i+1)] < 0.2].index\n",
        "  dados_hidro.iloc[indices,(i+1)] = 0"
      ],
      "metadata": {
        "id": "S_dmvKEnEI9w"
      },
      "execution_count": 34,
      "outputs": []
    },
    {
      "cell_type": "code",
      "source": [
        "erro_me = [None] * (dados_mswep.shape[1]-1)\n",
        "erro_mae = [None] * (dados_mswep.shape[1]-1)\n",
        "erro_mse = [None] * (dados_mswep.shape[1]-1)\n",
        "erro_rmse = [None] * (dados_mswep.shape[1]-1)\n",
        "\n",
        "for estacao_i in range(dados_mswep.shape[1]-1):\n",
        "\n",
        "  sem_nan = dados_hidro.iloc[:, estacao_i+1].dropna().index\n",
        "\n",
        "  hidro_sem_nan = dados_hidro.iloc[sem_nan,estacao_i+1]\n",
        "  mswep_sem_nan = dados_mswep.iloc[sem_nan,estacao_i+1]\n",
        "\n",
        "  erro_me[estacao_i] = he.me(simulated_array=mswep_sem_nan, observed_array=hidro_sem_nan)\n",
        "  erro_mae[estacao_i] = he.mae(simulated_array=mswep_sem_nan, observed_array=hidro_sem_nan)\n",
        "  erro_mse[estacao_i] = he.mse(simulated_array=mswep_sem_nan, observed_array=hidro_sem_nan)\n",
        "  erro_rmse[estacao_i] = he.rmse(simulated_array=mswep_sem_nan, observed_array=hidro_sem_nan)\n",
        "\n",
        "  print(estacao_i)"
      ],
      "metadata": {
        "colab": {
          "base_uri": "https://localhost:8080/"
        },
        "id": "8NwC1MecnSG2",
        "outputId": "77348977-0117-4f50-d301-734c8cf8a8f0"
      },
      "execution_count": 44,
      "outputs": [
        {
          "output_type": "stream",
          "name": "stdout",
          "text": [
            "0\n",
            "1\n",
            "2\n",
            "3\n",
            "4\n",
            "5\n",
            "6\n",
            "7\n",
            "8\n",
            "9\n",
            "10\n",
            "11\n",
            "12\n",
            "13\n",
            "14\n",
            "15\n",
            "16\n",
            "17\n",
            "18\n",
            "19\n",
            "20\n",
            "21\n",
            "22\n",
            "23\n",
            "24\n",
            "25\n",
            "26\n"
          ]
        },
        {
          "output_type": "stream",
          "name": "stderr",
          "text": [
            "/usr/local/lib/python3.11/dist-packages/numpy/_core/fromnumeric.py:3596: RuntimeWarning: Mean of empty slice.\n",
            "  return _methods._mean(a, axis=axis, dtype=dtype,\n",
            "/usr/local/lib/python3.11/dist-packages/numpy/_core/_methods.py:138: RuntimeWarning: invalid value encountered in scalar divide\n",
            "  ret = ret.dtype.type(ret / rcount)\n"
          ]
        }
      ]
    },
    {
      "cell_type": "code",
      "source": [
        "# prompt: criar um boxplot com erro_me\n",
        "\n",
        "import matplotlib.pyplot as plt\n",
        "import seaborn as sns\n",
        "\n",
        "plt.figure(figsize=(10, 6))\n",
        "sns.boxplot(y=erro_me)\n",
        "plt.title('Boxplot de Erro Médio (ME)')\n",
        "plt.ylabel('Erro Médio')\n",
        "plt.show()\n"
      ],
      "metadata": {
        "colab": {
          "base_uri": "https://localhost:8080/",
          "height": 526
        },
        "id": "vIStiIEByICJ",
        "outputId": "a42b264e-5b0c-4a52-c9a2-c73c5544e42e"
      },
      "execution_count": 46,
      "outputs": [
        {
          "output_type": "display_data",
          "data": {
            "text/plain": [
              "<Figure size 1000x600 with 1 Axes>"
            ],
            "image/png": "[encoded data removed]"
          },
          "metadata": {}
        }
      ]
    }
  ]
}